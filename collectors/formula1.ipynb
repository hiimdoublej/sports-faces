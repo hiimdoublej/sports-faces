{
 "cells": [
  {
   "cell_type": "code",
   "execution_count": 1,
   "id": "b5722424-1bd7-4bde-947a-c4e9e03d5da1",
   "metadata": {},
   "outputs": [],
   "source": [
    "import requests\n",
    "from bs4 import BeautifulSoup\n",
    "\n",
    "response = requests.get('https://www.formula1.com/en/drivers.html')\n",
    "soup = BeautifulSoup(response.text, 'html.parser')"
   ]
  },
  {
   "cell_type": "code",
   "execution_count": 2,
   "id": "4decdec0-b001-4705-b249-c7f096e21e48",
   "metadata": {},
   "outputs": [],
   "source": [
    "drivers = soup.select(\"body > div.site-wrapper > main > div.container.listing-items--wrapper.driver.during-season > div > div\")"
   ]
  },
  {
   "cell_type": "code",
   "execution_count": 14,
   "id": "dc694127-3a5c-4625-855f-e48d450b1913",
   "metadata": {},
   "outputs": [
    {
     "data": {
      "text/plain": [
       "{'Max-Verstappen': 'https://media.formula1.com/content/dam/fom-website/drivers/2023Drivers/verstappen.jpg.img.320.medium.jpg/1677069646195.jpg',\n",
       " 'Sergio-Perez': 'https://media.formula1.com/content/dam/fom-website/drivers/2023Drivers/perez.jpg.img.320.medium.jpg/1677069773437.jpg',\n",
       " 'Fernando-Alonso': 'https://media.formula1.com/content/dam/fom-website/drivers/2023Drivers/alonso.jpg.img.320.medium.jpg/1677244577162.jpg',\n",
       " 'Lewis-Hamilton': 'https://media.formula1.com/content/dam/fom-website/drivers/2023Drivers/hamilton.jpg.img.320.medium.jpg/1677069594164.jpg',\n",
       " 'Carlos-Sainz': 'https://media.formula1.com/content/dam/fom-website/drivers/2023Drivers/sainz.jpg.img.320.medium.jpg/1677069189406.jpg',\n",
       " 'George-Russell': 'https://media.formula1.com/content/dam/fom-website/drivers/2023Drivers/russell.jpg.img.320.medium.jpg/1677069334466.jpg',\n",
       " 'Charles-Leclerc': 'https://media.formula1.com/content/dam/fom-website/drivers/2023Drivers/leclerc.jpg.img.320.medium.jpg/1677069223130.jpg',\n",
       " 'Lance-Stroll': 'https://media.formula1.com/content/dam/fom-website/drivers/2023Drivers/stroll.jpg.img.320.medium.jpg/1677069453013.jpg',\n",
       " 'Lando-Norris': 'https://media.formula1.com/content/dam/fom-website/drivers/2023Drivers/norris.jpg.img.320.medium.jpg/1677069505471.jpg',\n",
       " 'Esteban-Ocon': 'https://media.formula1.com/content/dam/fom-website/drivers/2023Drivers/ocon.jpg.img.320.medium.jpg/1677069269007.jpg',\n",
       " 'Oscar-Piastri': 'https://media.formula1.com/content/dam/fom-website/drivers/2023Drivers/piastri.jpg.img.320.medium.jpg/1676983075734.jpg',\n",
       " 'Pierre-Gasly': 'https://media.formula1.com/content/dam/fom-website/drivers/2023Drivers/gasly.jpg.img.320.medium.jpg/1676983081984.jpg',\n",
       " 'Alexander-Albon': 'https://media.formula1.com/content/dam/fom-website/drivers/2023Drivers/albon.jpg.img.320.medium.jpg/1689253984120.jpg',\n",
       " 'Nico-Hulkenberg': 'https://media.formula1.com/content/dam/fom-website/drivers/2023Drivers/hulkenberg.jpg.img.320.medium.jpg/1676983071882.jpg',\n",
       " 'Valtteri-Bottas': 'https://media.formula1.com/content/dam/fom-website/drivers/2023Drivers/bottas.jpg.img.320.medium.jpg/1677069810695.jpg',\n",
       " 'Zhou-Guanyu': 'https://media.formula1.com/content/dam/fom-website/drivers/2023Drivers/zhou.jpg.img.320.medium.jpg/1677069909295.jpg',\n",
       " 'Yuki-Tsunoda': 'https://media.formula1.com/content/dam/fom-website/drivers/2023Drivers/tsunoda.jpg.img.320.medium.jpg/1677069846213.jpg',\n",
       " 'Kevin-Magnussen': 'https://media.formula1.com/content/dam/fom-website/drivers/2023Drivers/magnussen.jpg.img.320.medium.jpg/1677069387823.jpg',\n",
       " 'Logan-Sargeant': 'https://media.formula1.com/content/dam/fom-website/drivers/2023Drivers/sargeant.jpg.img.320.medium.jpg/1689255450602.jpg',\n",
       " 'Daniel-Ricciardo': 'https://media.formula1.com/content/dam/fom-website/drivers/2023Drivers/ricciardo.jpg.img.320.medium.jpg/1689928543988.jpg'}"
      ]
     },
     "execution_count": 14,
     "metadata": {},
     "output_type": "execute_result"
    }
   ],
   "source": [
    "import json\n",
    "\n",
    "avatars = {}\n",
    "for driver in drivers:\n",
    "    link = driver.select('a')[0]\n",
    "    personal_response = requests.get(f'https://www.formula1.com{link[\"href\"]}')\n",
    "    driver_soup = BeautifulSoup(personal_response.text, 'html.parser')\n",
    "    try:\n",
    "        name = driver_soup.select('h1.driver-name')[0].text.strip()\n",
    "    except IndexError:\n",
    "        continue\n",
    "    name = name.replace(' ', '-')\n",
    "    image_link = driver_soup.select('.driver-main-image')[0].select('img')[0].attrs['src']\n",
    "    avatars[name] = image_link\n",
    "\n",
    "avatars"
   ]
  },
  {
   "cell_type": "code",
   "execution_count": 17,
   "id": "4999e6a6-dd6f-4bd7-bdd9-7e06ab400acb",
   "metadata": {},
   "outputs": [],
   "source": [
    "import os\n",
    "output_dir = '../outputs/formula1'\n",
    "os.makedirs(output_dir, exist_ok=True)\n",
    "\n",
    "for name, link in avatars.items():\n",
    "    response = requests.get(link)\n",
    "    output = os.path.join(output_dir, f'{name}.jpg')\n",
    "    with open(output, 'wb') as fp:\n",
    "        fp.write(response.content)"
   ]
  },
  {
   "cell_type": "code",
   "execution_count": null,
   "id": "d1b1ed49-873d-4eb1-9e65-981c4dc1b222",
   "metadata": {},
   "outputs": [],
   "source": []
  }
 ],
 "metadata": {
  "kernelspec": {
   "display_name": "Python 3 (ipykernel)",
   "language": "python",
   "name": "python3"
  },
  "language_info": {
   "codemirror_mode": {
    "name": "ipython",
    "version": 3
   },
   "file_extension": ".py",
   "mimetype": "text/x-python",
   "name": "python",
   "nbconvert_exporter": "python",
   "pygments_lexer": "ipython3",
   "version": "3.11.4"
  }
 },
 "nbformat": 4,
 "nbformat_minor": 5
}
