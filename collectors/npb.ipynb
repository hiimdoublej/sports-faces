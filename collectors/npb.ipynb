{
 "cells": [
  {
   "cell_type": "code",
   "execution_count": 4,
   "id": "2c721589-5923-4be4-ae67-866b9fde4595",
   "metadata": {},
   "outputs": [],
   "source": [
    "import requests\n",
    "import ssl\n",
    "import string\n",
    "from urllib3 import poolmanager\n",
    "from bs4 import BeautifulSoup\n",
    "\n",
    "class TLSAdapter(requests.adapters.HTTPAdapter):\n",
    "\n",
    "    def init_poolmanager(self, connections, maxsize, block=False):\n",
    "        \"\"\"Create and initialize the urllib3 PoolManager.\"\"\"\n",
    "        ctx = ssl.create_default_context()\n",
    "        ctx.set_ciphers('DEFAULT@SECLEVEL=1')\n",
    "        self.poolmanager = poolmanager.PoolManager(\n",
    "                num_pools=connections,\n",
    "                maxsize=maxsize,\n",
    "                block=block,\n",
    "                ssl_version=ssl.PROTOCOL_TLS,\n",
    "                ssl_context=ctx)\n",
    "\n",
    "session = requests.session()\n",
    "session.mount('https://', TLSAdapter())\n",
    "\n",
    "player_links = {}\n",
    "\n",
    "for alphabet in string.ascii_lowercase:\n",
    "    response = session.get(f'https://npb.jp/bis/eng/players/active/index_{alphabet}.html')\n",
    "    soup = BeautifulSoup(response.content, 'html.parser')\n",
    "    for elem in soup.select('#pl_result_list a'):\n",
    "        link = elem.attrs['href']\n",
    "        if link == '#':\n",
    "            continue\n",
    "            \n",
    "        surname, name = elem.select('.name')[0].text.split(',', 1)\n",
    "        name = f'{name.strip()}-{surname.strip()}'.replace(' ', '-')\n",
    "        player_links[name] = link"
   ]
  },
  {
   "cell_type": "code",
   "execution_count": 5,
   "id": "0f77ba50-26be-451e-bbbb-294c95da3a4b",
   "metadata": {},
   "outputs": [],
   "source": [
    "avatars = {}\n",
    "\n",
    "for name, player_link in player_links.items():\n",
    "    response = session.get(f'https://npb.jp{player_link}')\n",
    "    soup = BeautifulSoup(response.content, 'html.parser')\n",
    "    elem = soup.select('div#pc_v_photo img')[0]\n",
    "    avatars[name] = elem.attrs['src']"
   ]
  },
  {
   "cell_type": "code",
   "execution_count": 6,
   "id": "ac2bebae-6a88-468b-a560-2fd24bfbb593",
   "metadata": {},
   "outputs": [],
   "source": [
    "import os\n",
    "output_dir = f'../outputs/npb'\n",
    "os.makedirs(output_dir, exist_ok=True)\n",
    "\n",
    "for name, link in avatars.items():\n",
    "    response = session.get(link)\n",
    "    with open(os.path.join(output_dir, f'{name}.jpg'), 'wb') as fp:\n",
    "        fp.write(response.content)\n",
    "    "
   ]
  }
 ],
 "metadata": {
  "kernelspec": {
   "display_name": "Python 3 (ipykernel)",
   "language": "python",
   "name": "python3"
  },
  "language_info": {
   "codemirror_mode": {
    "name": "ipython",
    "version": 3
   },
   "file_extension": ".py",
   "mimetype": "text/x-python",
   "name": "python",
   "nbconvert_exporter": "python",
   "pygments_lexer": "ipython3",
   "version": "3.11.4"
  }
 },
 "nbformat": 4,
 "nbformat_minor": 5
}
