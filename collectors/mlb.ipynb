{
 "cells": [
  {
   "cell_type": "code",
   "execution_count": 1,
   "id": "f183c001-6ec8-4f7f-a5f6-7c45d813a221",
   "metadata": {},
   "outputs": [],
   "source": [
    "import requests\n",
    "\n",
    "response = requests.get('https://statsapi.mlb.com/api/v1/teams?sportId=1&language=en&leagueListId=mlb_hist&activeStatus=B&season=2023')\n",
    "teams = response.json()['teams']"
   ]
  },
  {
   "cell_type": "code",
   "execution_count": 2,
   "id": "c063b6e3-f9f1-4ad4-9de1-94311af3b91e",
   "metadata": {},
   "outputs": [],
   "source": [
    "avatars = {}\n",
    "for team in teams:\n",
    "    response = requests.get(f'https://statsapi.mlb.com/api/v1/teams/{team[\"id\"]}/roster?hydrate=person&language=en&season=2023')\n",
    "    for player in response.json()['roster']:\n",
    "        person = player['person']\n",
    "        name = person['nameSlug']\n",
    "        avatars[name] = f'https://img.mlbstatic.com/mlb-photos/image/upload/d_people:generic:headshot:67:current.png/w_640,q_auto:best/v1/people/{person[\"id\"]}/headshot/67/current'"
   ]
  },
  {
   "cell_type": "code",
   "execution_count": 3,
   "id": "5eb432ae-6cec-4195-bb33-9938eb776baf",
   "metadata": {},
   "outputs": [],
   "source": [
    "import os\n",
    "output_dir = '../outputs/mlb'\n",
    "os.makedirs(output_dir, exist_ok=True)\n",
    "\n",
    "for name, link in avatars.items():\n",
    "    response = requests.get(link)\n",
    "    with open(os.path.join(output_dir, f'{name}.png'), 'wb') as fp:\n",
    "        fp.write(response.content)"
   ]
  }
 ],
 "metadata": {
  "kernelspec": {
   "display_name": "Python 3 (ipykernel)",
   "language": "python",
   "name": "python3"
  },
  "language_info": {
   "codemirror_mode": {
    "name": "ipython",
    "version": 3
   },
   "file_extension": ".py",
   "mimetype": "text/x-python",
   "name": "python",
   "nbconvert_exporter": "python",
   "pygments_lexer": "ipython3",
   "version": "3.11.4"
  }
 },
 "nbformat": 4,
 "nbformat_minor": 5
}
