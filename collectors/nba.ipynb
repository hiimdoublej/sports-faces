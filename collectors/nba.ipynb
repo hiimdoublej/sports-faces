{
 "cells": [
  {
   "cell_type": "code",
   "execution_count": 1,
   "id": "481a788c-58f0-4b7f-aff4-16feb84a5f69",
   "metadata": {},
   "outputs": [],
   "source": [
    "import requests\n",
    "headers = {\n",
    "    'Origin': 'https://www.nba.com',\n",
    "    'Referer': 'https://www.nba.com/',\n",
    "    'User-Agent': 'Mozilla/5.0 (X11; Linux x86_64) AppleWebKit/537.36 (KHTML, like Gecko) Chrome/114.0.0.0 Safari/537.36',\n",
    "}\n",
    "response = requests.get(\n",
    "    'https://stats.nba.com/stats/playerindex?Historical=0&LeagueID=00&Season=2023-24&SeasonType=Regular%20Season',\n",
    "    headers=headers,\n",
    ")"
   ]
  },
  {
   "cell_type": "code",
   "execution_count": 2,
   "id": "84354d7e-ce89-4f88-9971-67df50ffdd7c",
   "metadata": {},
   "outputs": [],
   "source": [
    "response = response.json()"
   ]
  },
  {
   "cell_type": "code",
   "execution_count": 3,
   "id": "8b786791-4eb2-4d95-a163-fc430a68fe23",
   "metadata": {},
   "outputs": [],
   "source": [
    "players = response['resultSets'][0]['rowSet']"
   ]
  },
  {
   "cell_type": "code",
   "execution_count": 4,
   "id": "d6fa6759-b3d7-4e47-bcf0-7cd33957463e",
   "metadata": {},
   "outputs": [],
   "source": [
    "avatars = {\n",
    "    name: f'https://cdn.nba.com/headshots/nba/latest/1040x760/{player_id}.png'\n",
    "    for player_id, _, _, name, *_ in players\n",
    "}"
   ]
  },
  {
   "cell_type": "code",
   "execution_count": 5,
   "id": "6db144e2-7b74-41e7-a3ac-f41c25263cd5",
   "metadata": {},
   "outputs": [],
   "source": [
    "import os\n",
    "output_dir = f'../outputs/nba'\n",
    "os.makedirs(output_dir, exist_ok=True)\n",
    "\n",
    "for name, link in avatars.items():\n",
    "    response = requests.get(link, headers=headers)\n",
    "    with open(os.path.join(output_dir, f'{name}.png'), 'wb') as fp:\n",
    "        fp.write(response.content)"
   ]
  }
 ],
 "metadata": {
  "kernelspec": {
   "display_name": "Python 3 (ipykernel)",
   "language": "python",
   "name": "python3"
  },
  "language_info": {
   "codemirror_mode": {
    "name": "ipython",
    "version": 3
   },
   "file_extension": ".py",
   "mimetype": "text/x-python",
   "name": "python",
   "nbconvert_exporter": "python",
   "pygments_lexer": "ipython3",
   "version": "3.11.4"
  }
 },
 "nbformat": 4,
 "nbformat_minor": 5
}
